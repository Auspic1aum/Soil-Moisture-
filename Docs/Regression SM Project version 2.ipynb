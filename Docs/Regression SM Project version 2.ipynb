{
 "cells": [
  {
   "cell_type": "code",
   "execution_count": 2,
   "id": "8ddb46b7",
   "metadata": {},
   "outputs": [],
   "source": [
    "import numpy as np \n",
    "import pandas as pd \n",
    "import matplotlib as mlp\n",
    "import seaborn as sns \n",
    "pd.set_option(\"display.max_rows\", None, \"display.max_columns\", None)\n",
    "from sklearn.model_selection import train_test_split"
   ]
  },
  {
   "cell_type": "code",
   "execution_count": 3,
   "id": "13e1c35e",
   "metadata": {},
   "outputs": [],
   "source": [
    "df1 = pd.read_excel('C:\\\\Users\\\\Dell\\\\Desktop\\\\Soil Moisture Prediction\\\\Sm Training feature 2d.xlsx')"
   ]
  },
  {
   "cell_type": "code",
   "execution_count": 19,
   "id": "e238eb12",
   "metadata": {},
   "outputs": [],
   "source": [
    "#keeping only relevant columns \n",
    "df1 = df1[['Date', 'T_max', 'T_min', 'Rainfall_mm', 'Rainfall_NRSC_mm', 'Evp_mm','Soil_Moisture_prev' ,'Soil_Moisture_perc']]"
   ]
  },
  {
   "cell_type": "code",
   "execution_count": 20,
   "id": "732e9dc1",
   "metadata": {},
   "outputs": [],
   "source": [
    "#extract date number \n",
    "df1['day_of_month'] = df1['Date'].astype('str').str[-2:]\n",
    "df1['day_of_month'] = df1['day_of_month'].astype('float')"
   ]
  },
  {
   "cell_type": "code",
   "execution_count": 21,
   "id": "53a2c7bd",
   "metadata": {},
   "outputs": [],
   "source": [
    "#extract month num \n",
    "df1['month_of_year'] = df1['Date'].astype('str').str[5:7]\n",
    "df1['month_of_year'] = df1['month_of_year'].astype('float')"
   ]
  },
  {
   "cell_type": "code",
   "execution_count": 22,
   "id": "aefe02ef",
   "metadata": {},
   "outputs": [],
   "source": [
    "#keeping only relevant columns \n",
    "df2 = df1[[ 'day_of_month', 'month_of_year','T_max', 'T_min', 'Rainfall_mm', 'Rainfall_NRSC_mm', 'Evp_mm','Soil_Moisture_prev', 'Soil_Moisture_perc' ]]"
   ]
  },
  {
   "cell_type": "code",
   "execution_count": 23,
   "id": "b41dd027",
   "metadata": {},
   "outputs": [
    {
     "name": "stderr",
     "output_type": "stream",
     "text": [
      "C:\\Users\\Dell\\anaconda3\\lib\\site-packages\\pandas\\util\\_decorators.py:311: SettingWithCopyWarning: \n",
      "A value is trying to be set on a copy of a slice from a DataFrame\n",
      "\n",
      "See the caveats in the documentation: https://pandas.pydata.org/pandas-docs/stable/user_guide/indexing.html#returning-a-view-versus-a-copy\n",
      "  return func(*args, **kwargs)\n"
     ]
    }
   ],
   "source": [
    "#dropping Nulls \n",
    "df2.dropna(inplace=True)"
   ]
  },
  {
   "cell_type": "code",
   "execution_count": 24,
   "id": "0543815d",
   "metadata": {},
   "outputs": [
    {
     "data": {
      "text/plain": [
       "day_of_month          15.656552\n",
       "month_of_year          6.500690\n",
       "T_max                 31.949680\n",
       "T_min                  6.028845\n",
       "Rainfall_mm            3.092297\n",
       "Rainfall_NRSC_mm       2.346526\n",
       "Evp_mm                 1.507769\n",
       "Soil_Moisture_prev    19.904934\n",
       "Soil_Moisture_perc    19.954597\n",
       "dtype: float64"
      ]
     },
     "execution_count": 24,
     "metadata": {},
     "output_type": "execute_result"
    }
   ],
   "source": [
    "#Mean\n",
    "df2.mean()"
   ]
  },
  {
   "cell_type": "code",
   "execution_count": 25,
   "id": "2c54fa33",
   "metadata": {},
   "outputs": [
    {
     "data": {
      "image/png": "[encoded data removed]",
      "text/plain": [
       "<Figure size 432x288 with 1 Axes>"
      ]
     },
     "metadata": {
      "needs_background": "light"
     },
     "output_type": "display_data"
    }
   ],
   "source": [
    "#visualize the variation of soil mosisture with evapotranspiration \n",
    "\n",
    "from matplotlib import pyplot as plt\n",
    "\n",
    "# Create a bar plot of name vs grade\n",
    "plt.bar(x=df2.Evp_mm, height=df2.Soil_Moisture_perc)\n",
    "\n",
    "# Display the plot\n",
    "plt.show()"
   ]
  },
  {
   "cell_type": "code",
   "execution_count": 26,
   "id": "93e5bd49",
   "metadata": {},
   "outputs": [
    {
     "name": "stderr",
     "output_type": "stream",
     "text": [
      "C:\\Users\\Dell\\AppData\\Local\\Temp/ipykernel_6164/3654614415.py:18: UserWarning: Matplotlib is currently using module://matplotlib_inline.backend_inline, which is a non-GUI backend, so cannot show the figure.\n",
      "  fig.show()\n"
     ]
    },
    {
     "data": {
      "image/png": "[encoded data removed]",
      "text/plain": [
       "<Figure size 720x288 with 1 Axes>"
      ]
     },
     "metadata": {
      "needs_background": "light"
     },
     "output_type": "display_data"
    }
   ],
   "source": [
    "#Histogram to see distribution of soil moisture \n",
    "\n",
    "# Get the variable to examine\n",
    "var_data = df2['Soil_Moisture_perc']\n",
    "\n",
    "# Create a Figure\n",
    "fig = plt.figure(figsize=(10,4))\n",
    "\n",
    "# Plot a histogram\n",
    "plt.hist(var_data)\n",
    "\n",
    "# Add titles and labels\n",
    "plt.title('Data Distribution')\n",
    "plt.xlabel('Value')\n",
    "plt.ylabel('Frequency')\n",
    "\n",
    "# Show the figure\n",
    "fig.show()"
   ]
  },
  {
   "cell_type": "code",
   "execution_count": 27,
   "id": "3061e6ca",
   "metadata": {},
   "outputs": [
    {
     "name": "stderr",
     "output_type": "stream",
     "text": [
      "C:\\Users\\Dell\\AppData\\Local\\Temp/ipykernel_6164/2336636775.py:14: UserWarning: Matplotlib is currently using module://matplotlib_inline.backend_inline, which is a non-GUI backend, so cannot show the figure.\n",
      "  fig.show()\n"
     ]
    },
    {
     "data": {
      "image/png": "[encoded data removed]",
      "text/plain": [
       "<Figure size 720x288 with 1 Axes>"
      ]
     },
     "metadata": {
      "needs_background": "light"
     },
     "output_type": "display_data"
    }
   ],
   "source": [
    "# Get the variable to examine\n",
    "var = df2['Soil_Moisture_perc']\n",
    "\n",
    "# Create a Figure\n",
    "fig = plt.figure(figsize=(10,4))\n",
    "\n",
    "# Plot a histogram\n",
    "plt.boxplot(var)\n",
    "\n",
    "# Add titles and labels\n",
    "plt.title('Data Distribution')\n",
    "\n",
    "# Show the figure\n",
    "fig.show()"
   ]
  },
  {
   "cell_type": "code",
   "execution_count": 28,
   "id": "b88aa61b",
   "metadata": {},
   "outputs": [],
   "source": [
    "#remove outliers from all such rows which have atleast one outlier \n",
    "from scipy import stats\n",
    "\n",
    "df3 = df2[(np.abs(stats.zscore(df2)) < 3).all(axis=1)]"
   ]
  },
  {
   "cell_type": "code",
   "execution_count": 29,
   "id": "2c7ab44c",
   "metadata": {},
   "outputs": [],
   "source": [
    "# Separate features and labels\n",
    "# After separating the dataset, we now have numpy arrays named **X** containing the features, and **y** containing the labels.\n",
    "X, y = df3[['day_of_month', 'month_of_year','T_max', 'T_min', 'Rainfall_mm', 'Rainfall_NRSC_mm','Evp_mm','Soil_Moisture_prev']].values, df3['Soil_Moisture_perc'].values\n",
    "\n",
    "# Split data 70%-30% into training set and test set\n",
    "X_train, X_test, y_train, y_test = train_test_split(X, y, test_size=0.30, random_state=0)"
   ]
  },
  {
   "cell_type": "code",
   "execution_count": 30,
   "id": "6242e914",
   "metadata": {},
   "outputs": [],
   "source": [
    "# Train the model\n",
    "from sklearn.compose import ColumnTransformer\n",
    "from sklearn.pipeline import Pipeline\n",
    "from sklearn.impute import SimpleImputer\n",
    "from sklearn.preprocessing import StandardScaler, PolynomialFeatures\n",
    "from sklearn.linear_model import LinearRegression\n",
    "from sklearn.metrics import mean_squared_error, r2_score\n",
    "import numpy as np"
   ]
  },
  {
   "cell_type": "code",
   "execution_count": 31,
   "id": "0035a31e",
   "metadata": {},
   "outputs": [],
   "source": [
    "#Linear Regression polynomial "
   ]
  },
  {
   "cell_type": "code",
   "execution_count": 49,
   "id": "5a0988e0",
   "metadata": {},
   "outputs": [],
   "source": [
    "hypem_list = [1,2,3,4]\n",
    "r2_list = {}\n",
    "for i in hypem_list:\n",
    "    pipeline = Pipeline(steps=[('scaler', StandardScaler()),('transformer', PolynomialFeatures(degree = i)),('regressor', LinearRegression())])\n",
    "    model = pipeline.fit(X_train, y_train)\n",
    "    predictions = model.predict(X_test)\n",
    "    r2 = r2_score(y_test, predictions)\n",
    "    r2_list[i] = r2\n",
    "    #maximum r2_score degree \n",
    "    x = max(zip(r2_list.values(), r2_list.keys()))[1]"
   ]
  },
  {
   "cell_type": "code",
   "execution_count": 37,
   "id": "5c5144f8",
   "metadata": {},
   "outputs": [
    {
     "data": {
      "text/plain": [
       "{1: 0.9629729030320089,\n",
       " 2: 0.9661392409148843,\n",
       " 3: 0.8704111844880158,\n",
       " 4: -1.5553040352694388e+16}"
      ]
     },
     "execution_count": 37,
     "metadata": {},
     "output_type": "execute_result"
    }
   ],
   "source": [
    "r2_list"
   ]
  },
  {
   "cell_type": "code",
   "execution_count": 50,
   "id": "ab8e31ce",
   "metadata": {},
   "outputs": [],
   "source": [
    "# Create preprocessing and training pipeline\n",
    "pipeline = Pipeline(steps=[('scaler', StandardScaler()),('transformer', PolynomialFeatures(degree = x)),('regressor', LinearRegression())])"
   ]
  },
  {
   "cell_type": "code",
   "execution_count": 25,
   "id": "acfd31bb",
   "metadata": {},
   "outputs": [
    {
     "name": "stdout",
     "output_type": "stream",
     "text": [
      "Pipeline(steps=[('scaler', StandardScaler()),\n",
      "                ('transformer', PolynomialFeatures()),\n",
      "                ('regressor', LinearRegression())])\n"
     ]
    }
   ],
   "source": [
    "# fit the pipeline to train a linear regression model on the training set\n",
    "model = pipeline.fit(X_train, y_train)\n",
    "print (model)"
   ]
  },
  {
   "cell_type": "code",
   "execution_count": 26,
   "id": "ca13268c",
   "metadata": {},
   "outputs": [],
   "source": [
    "# Get predictions\n",
    "predictions = model.predict(X_test)"
   ]
  },
  {
   "cell_type": "code",
   "execution_count": 27,
   "id": "c3cc79d6",
   "metadata": {},
   "outputs": [
    {
     "name": "stdout",
     "output_type": "stream",
     "text": [
      "MSE: 6.5278110589044385\n",
      "RMSE: 2.554958132514981\n",
      "R2: 0.9661392409148843\n"
     ]
    }
   ],
   "source": [
    " #Next to next day predictions \n",
    "from sklearn.metrics import mean_squared_error, r2_score\n",
    "# Display metrics\n",
    "mse = mean_squared_error(y_test, predictions)\n",
    "print(\"MSE:\", mse)\n",
    "rmse = np.sqrt(mse)\n",
    "print(\"RMSE:\", rmse)\n",
    "r2 = r2_score(y_test, predictions)\n",
    "print(\"R2:\", r2)"
   ]
  },
  {
   "cell_type": "code",
   "execution_count": null,
   "id": "00a660f0",
   "metadata": {},
   "outputs": [],
   "source": []
  },
  {
   "cell_type": "code",
   "execution_count": 51,
   "id": "d5a0da28",
   "metadata": {},
   "outputs": [],
   "source": [
    "#Random Forest Regressor "
   ]
  },
  {
   "cell_type": "code",
   "execution_count": 52,
   "id": "f7d5b202",
   "metadata": {},
   "outputs": [],
   "source": [
    "from sklearn.ensemble import RandomForestRegressor"
   ]
  },
  {
   "cell_type": "code",
   "execution_count": 55,
   "id": "ecb2a1c7",
   "metadata": {},
   "outputs": [],
   "source": [
    "hypem_list = [6,7,8,9,10,11]\n",
    "r2_list = {}\n",
    "for i in hypem_list:\n",
    "    pipeline_rf = Pipeline(steps=[('scaler', StandardScaler()),('regressor', RandomForestRegressor(n_estimators = i))])\n",
    "    model_rf = pipeline_rf.fit(X_train, y_train)\n",
    "    predictions_rf = model_rf.predict(X_test)\n",
    "    r2 = r2_score(y_test, predictions_rf)\n",
    "    r2_list[i] = r2\n",
    "    "
   ]
  },
  {
   "cell_type": "code",
   "execution_count": 56,
   "id": "15d4a51e",
   "metadata": {},
   "outputs": [
    {
     "data": {
      "text/plain": [
       "{6: 0.962065937538586,\n",
       " 7: 0.9580191047028929,\n",
       " 8: 0.9585554695395205,\n",
       " 9: 0.9622205748727659,\n",
       " 10: 0.9614060962732742,\n",
       " 11: 0.9622169153532507}"
      ]
     },
     "execution_count": 56,
     "metadata": {},
     "output_type": "execute_result"
    }
   ],
   "source": [
    "r2_list"
   ]
  },
  {
   "cell_type": "code",
   "execution_count": 30,
   "id": "ca670430",
   "metadata": {},
   "outputs": [],
   "source": [
    "# Create preprocessing and training pipeline\n",
    "pipeline_rf = Pipeline(steps=[('scaler', StandardScaler()),('regressor', RandomForestRegressor(n_estimators = 8))])"
   ]
  },
  {
   "cell_type": "code",
   "execution_count": 31,
   "id": "8e753b64",
   "metadata": {},
   "outputs": [
    {
     "name": "stdout",
     "output_type": "stream",
     "text": [
      "Pipeline(steps=[('scaler', StandardScaler()),\n",
      "                ('regressor', RandomForestRegressor(n_estimators=8))])\n"
     ]
    }
   ],
   "source": [
    "# fit the pipeline to train a linear regression model on the training set\n",
    "model_rf = pipeline_rf.fit(X_train, y_train)\n",
    "print (model_rf)"
   ]
  },
  {
   "cell_type": "code",
   "execution_count": 32,
   "id": "90b9ee1d",
   "metadata": {},
   "outputs": [],
   "source": [
    "# Get predictions\n",
    "predictions_rf = model_rf.predict(X_test)"
   ]
  },
  {
   "cell_type": "code",
   "execution_count": 33,
   "id": "c0bb926d",
   "metadata": {},
   "outputs": [
    {
     "name": "stdout",
     "output_type": "stream",
     "text": [
      "MSE: 7.6216832942082355\n",
      "RMSE: 2.7607396281084235\n",
      "R2: 0.9604651575360472\n"
     ]
    }
   ],
   "source": [
    "#Next to nxt day predictions \n",
    "from sklearn.metrics import mean_squared_error, r2_score\n",
    "# Display metrics\n",
    "mse = mean_squared_error(y_test, predictions_rf)\n",
    "print(\"MSE:\", mse)\n",
    "rmse = np.sqrt(mse)\n",
    "print(\"RMSE:\", rmse)\n",
    "r2 = r2_score(y_test, predictions_rf)\n",
    "print(\"R2:\", r2)"
   ]
  },
  {
   "cell_type": "code",
   "execution_count": null,
   "id": "1f6dbe5b",
   "metadata": {},
   "outputs": [],
   "source": []
  },
  {
   "cell_type": "code",
   "execution_count": 34,
   "id": "b6748939",
   "metadata": {},
   "outputs": [],
   "source": [
    "# Support Vector Machines "
   ]
  },
  {
   "cell_type": "code",
   "execution_count": 35,
   "id": "be922c0e",
   "metadata": {},
   "outputs": [],
   "source": [
    "from sklearn.svm import SVR"
   ]
  },
  {
   "cell_type": "code",
   "execution_count": 50,
   "id": "ab86e76e",
   "metadata": {},
   "outputs": [],
   "source": [
    "hypem_list = ['poly', 'rbf', 'sigmoid']\n",
    "r2_list = []\n",
    "for i in hypem_list:\n",
    "    pipeline_svm = Pipeline(steps=[('scaler', StandardScaler()),('regressor', SVR(kernel = i))])\n",
    "    model_svm = pipeline_svm.fit(X_train, y_train)\n",
    "    predictions_svm = model_svm.predict(X_test)\n",
    "    r2 = r2_score(y_test, predictions_svm)\n",
    "    r2_list.append(r2)  "
   ]
  },
  {
   "cell_type": "code",
   "execution_count": 51,
   "id": "b6534fee",
   "metadata": {},
   "outputs": [
    {
     "data": {
      "text/plain": [
       "[0.8830710985826032, 0.9117250170535188, 0.852400376566029]"
      ]
     },
     "execution_count": 51,
     "metadata": {},
     "output_type": "execute_result"
    }
   ],
   "source": [
    "r2_list"
   ]
  },
  {
   "cell_type": "code",
   "execution_count": 36,
   "id": "709dc377",
   "metadata": {},
   "outputs": [
    {
     "name": "stdout",
     "output_type": "stream",
     "text": [
      "Pipeline(steps=[('scaler', StandardScaler()),\n",
      "                ('regressor', SVR(kernel='linear'))])\n"
     ]
    }
   ],
   "source": [
    "# Create preprocessing and training pipeline\n",
    "pipeline_svm = Pipeline(steps=[('scaler', StandardScaler()),('regressor', SVR(kernel = 'linear'))])\n",
    "\n",
    "# fit the pipeline to train a linear regression model on the training set\n",
    "model_svm = pipeline_svm.fit(X_train, y_train)\n",
    "print (model_svm)"
   ]
  },
  {
   "cell_type": "code",
   "execution_count": 37,
   "id": "a86e33c5",
   "metadata": {},
   "outputs": [],
   "source": [
    "# Get predictions \n",
    "predictions_svm = model_svm.predict(X_test)"
   ]
  },
  {
   "cell_type": "code",
   "execution_count": 38,
   "id": "6c480cd9",
   "metadata": {},
   "outputs": [
    {
     "name": "stdout",
     "output_type": "stream",
     "text": [
      "MSE: 7.804672781347331\n",
      "RMSE: 2.7936844455570373\n",
      "R2: 0.9595159629464346\n"
     ]
    }
   ],
   "source": [
    "#Next to next day predictions \n",
    "from sklearn.metrics import mean_squared_error, r2_score\n",
    "# Display metrics\n",
    "mse = mean_squared_error(y_test,predictions_svm)\n",
    "print(\"MSE:\", mse)\n",
    "rmse = np.sqrt(mse)\n",
    "print(\"RMSE:\", rmse)\n",
    "r2 = r2_score(y_test, predictions_svm)\n",
    "print(\"R2:\", r2) "
   ]
  },
  {
   "cell_type": "code",
   "execution_count": null,
   "id": "b982537e",
   "metadata": {},
   "outputs": [],
   "source": []
  }
 ],
 "metadata": {
  "kernelspec": {
   "display_name": "Python 3 (ipykernel)",
   "language": "python",
   "name": "python3"
  },
  "language_info": {
   "codemirror_mode": {
    "name": "ipython",
    "version": 3
   },
   "file_extension": ".py",
   "mimetype": "text/x-python",
   "name": "python",
   "nbconvert_exporter": "python",
   "pygments_lexer": "ipython3",
   "version": "3.9.7"
  }
 },
 "nbformat": 4,
 "nbformat_minor": 5
}
